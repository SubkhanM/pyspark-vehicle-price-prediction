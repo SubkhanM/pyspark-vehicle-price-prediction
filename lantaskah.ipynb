{
 "cells": [
  {
   "cell_type": "markdown",
   "metadata": {},
   "source": [
    "# **Tugas Analisis PySpark (case vehicle price prediction dataset)**\n",
    "\n",
    "## **Anggota Kelompok:**\n",
    "1.   Subkhan Masudi (5027221044)\n",
    "2.   Nur Azka Radiansyah (5027221064)"
   ]
  },
  {
   "cell_type": "code",
   "execution_count": 1,
   "metadata": {},
   "outputs": [
    {
     "ename": "ModuleNotFoundError",
     "evalue": "No module named 'matplotlib'",
     "output_type": "error",
     "traceback": [
      "\u001b[1;31m---------------------------------------------------------------------------\u001b[0m",
      "\u001b[1;31mModuleNotFoundError\u001b[0m                       Traceback (most recent call last)",
      "Cell \u001b[1;32mIn[1], line 9\u001b[0m\n\u001b[0;32m      7\u001b[0m \u001b[38;5;28;01mfrom\u001b[39;00m \u001b[38;5;21;01mpyspark\u001b[39;00m\u001b[38;5;21;01m.\u001b[39;00m\u001b[38;5;21;01msql\u001b[39;00m\u001b[38;5;21;01m.\u001b[39;00m\u001b[38;5;21;01mtypes\u001b[39;00m \u001b[38;5;28;01mimport\u001b[39;00m IntegerType, FloatType\n\u001b[0;32m      8\u001b[0m \u001b[38;5;28;01mfrom\u001b[39;00m \u001b[38;5;21;01mpyspark\u001b[39;00m\u001b[38;5;21;01m.\u001b[39;00m\u001b[38;5;21;01msql\u001b[39;00m \u001b[38;5;28;01mimport\u001b[39;00m Row\n\u001b[1;32m----> 9\u001b[0m \u001b[38;5;28;01mimport\u001b[39;00m \u001b[38;5;21;01mmatplotlib\u001b[39;00m\u001b[38;5;21;01m.\u001b[39;00m\u001b[38;5;21;01mpyplot\u001b[39;00m \u001b[38;5;28;01mas\u001b[39;00m \u001b[38;5;21;01mplt\u001b[39;00m\n\u001b[0;32m     10\u001b[0m \u001b[38;5;28;01mimport\u001b[39;00m \u001b[38;5;21;01mseaborn\u001b[39;00m \u001b[38;5;28;01mas\u001b[39;00m \u001b[38;5;21;01msns\u001b[39;00m\n\u001b[0;32m     11\u001b[0m \u001b[38;5;28;01mimport\u001b[39;00m \u001b[38;5;21;01mpandas\u001b[39;00m \u001b[38;5;28;01mas\u001b[39;00m \u001b[38;5;21;01mpd\u001b[39;00m\n",
      "\u001b[1;31mModuleNotFoundError\u001b[0m: No module named 'matplotlib'"
     ]
    }
   ],
   "source": [
    "from pyspark.sql import SparkSession\n",
    "from pyspark.sql.functions import col, when, count, isnan\n",
    "from pyspark.ml.feature import VectorAssembler, StringIndexer, OneHotEncoder\n",
    "from pyspark.ml.regression import LinearRegression, DecisionTreeRegressor, RandomForestRegressor, GBTRegressor\n",
    "from pyspark.ml.evaluation import RegressionEvaluator\n",
    "from pyspark.ml import Pipeline\n",
    "from pyspark.sql.types import IntegerType, FloatType\n",
    "from pyspark.sql import Row\n",
    "import matplotlib.pyplot as plt\n",
    "import seaborn as sns\n",
    "import pandas as pd"
   ]
  },
  {
   "cell_type": "code",
   "execution_count": 2,
   "metadata": {},
   "outputs": [
    {
     "name": "stdout",
     "output_type": "stream",
     "text": [
      "DataFrame shape: 441802 rows and 26 columns\n",
      "['id', 'url', 'region', 'region_url', 'price', 'year', 'manufacturer', 'model', 'condition', 'cylinders', 'fuel', 'odometer', 'title_status', 'transmission', 'VIN', 'drive', 'size', 'type', 'paint_color', 'image_url', 'description', 'county', 'state', 'lat', 'long', 'posting_date']\n"
     ]
    }
   ],
   "source": [
    "# Initialize Spark session\n",
    "spark = SparkSession.builder \\\n",
    "    .appName(\"Vehicle Price Prediction\") \\\n",
    "    .getOrCreate()\n",
    "\n",
    "# Load data\n",
    "df = spark.read.csv('vehicles.csv', header=True, inferSchema=True)\n",
    "\n",
    "# Display shape and columns\n",
    "print(f\"DataFrame shape: {df.count()} rows and {len(df.columns)} columns\")\n",
    "print(df.columns)"
   ]
  },
  {
   "cell_type": "markdown",
   "metadata": {},
   "source": [
    "1. **Menginisialisasi Spark Session:**\n",
    "   ```python\n",
    "   spark = SparkSession.builder \\\n",
    "       .appName(\"Vehicle Price Prediction\") \\\n",
    "       .getOrCreate()\n",
    "   ```\n",
    "   Bagian ini menginisialisasi sebuah *Spark session* menggunakan PySpark, yaitu sebuah antarmuka Python untuk *Apache Spark*. Metode ini dimulai dengan membuat sebuah objek `SparkSession` dengan nama aplikasi **\"Vehicle Price Prediction\"**. `getOrCreate()` akan membuat sesi baru jika belum ada, atau menggunakan sesi yang sudah ada. *Spark session* ini dibutuhkan untuk berinteraksi dengan *Spark* dalam analisis data.\n",
    "\n",
    "2. **Memuat data:**\n",
    "   ```python\n",
    "   df = spark.read.csv('vehicles.csv', header=True, inferSchema=True)\n",
    "   ```\n",
    "   Di sini, dataset **`vehicles.csv`** dimuat ke dalam sebuah DataFrame PySpark menggunakan metode `spark.read.csv()`. Argumen:\n",
    "   - `header=True` berarti file CSV memiliki baris pertama sebagai header (nama kolom).\n",
    "   - `inferSchema=True` memungkinkan PySpark untuk secara otomatis mendeteksi tipe data dari setiap kolom berdasarkan isinya.\n",
    "\n",
    "3. **Menampilkan ukuran dan kolom DataFrame:**\n",
    "   ```python\n",
    "   print(f\"DataFrame shape: {df.count()} rows and {len(df.columns)} columns\")\n",
    "   print(df.columns)\n",
    "   ```\n",
    "   - `df.count()` menghitung jumlah baris dalam DataFrame.\n",
    "   - `len(df.columns)` menghitung jumlah kolom dalam DataFrame.\n",
    "   - `df.columns` menampilkan nama-nama kolom yang ada di DataFrame.\n",
    "\n",
    "Hasil akhirnya adalah informasi jumlah baris, jumlah kolom, serta daftar nama kolom dari dataset yang dimuat."
   ]
  },
  {
   "cell_type": "code",
   "execution_count": 3,
   "metadata": {},
   "outputs": [
    {
     "name": "stdout",
     "output_type": "stream",
     "text": [
      "+------+-----+----+------------+-----+---------+---------+-----+--------+------------+------------+------+------+------+-----------+------+\n",
      "|region|price|year|manufacturer|model|condition|cylinders| fuel|odometer|title_status|transmission| drive|  size|  type|paint_color|county|\n",
      "+------+-----+----+------------+-----+---------+---------+-----+--------+------------+------------+------+------+------+-----------+------+\n",
      "|  6901| 6446|7890|       28937|17506|   187143|   190798|16344|   17801|       21618|       15932|144178|319997|106892|     143839|382283|\n",
      "+------+-----+----+------------+-----+---------+---------+-----+--------+------------+------------+------+------+------+-----------+------+\n",
      "\n"
     ]
    }
   ],
   "source": [
    "# Drop unnecessary columns\n",
    "df = df.drop('id', 'url', 'region_url', 'VIN', 'image_url', 'description', 'state', 'lat', 'long', 'posting_date')\n",
    "\n",
    "# Check for null values\n",
    "null_counts = df.select([count(when(isnan(c) | col(c).isNull(), c)).alias(c) for c in df.columns])\n",
    "null_counts.show()"
   ]
  },
  {
   "cell_type": "code",
   "execution_count": 4,
   "metadata": {},
   "outputs": [],
   "source": [
    "# Dropping columns with more than 25% null values\n",
    "threshold = df.count() * 0.25\n",
    "df = df.drop(*[c for c in df.columns if df.filter(col(c).isNull()).count() > threshold])\n",
    "\n",
    "# Drop specific categorical columns\n",
    "df = df.drop('region', 'manufacturer', 'model', 'fuel')\n",
    "\n",
    "# Drop rows with null values in specific columns\n",
    "for column in ['odometer', 'type', 'title_status', 'year', 'transmission']:\n",
    "    df = df.filter(df[column].isNotNull())"
   ]
  },
  {
   "cell_type": "markdown",
   "metadata": {},
   "source": [
    "1. **Menghapus kolom yang tidak diperlukan:**\n",
    "   ```python\n",
    "   df = df.drop('id', 'url', 'region_url', 'VIN', 'image_url', 'description', 'state', 'lat', 'long', 'posting_date')\n",
    "   ```\n",
    "   Bagian ini menggunakan metode `drop()` untuk menghapus kolom yang tidak diperlukan dari DataFrame. Kolom-kolom seperti `'id'`, `'url'`, `'region_url'`, `'VIN'`, `'image_url'`, `'description'`, `'state'`, `'lat'`, `'long'`, dan `'posting_date'` dihapus karena dianggap tidak relevan untuk analisis atau model prediksi harga kendaraan.\n",
    "\n",
    "2. **Memeriksa nilai *null* dalam kolom:**\n",
    "   ```python\n",
    "   null_counts = df.select([count(when(isnan(c) | col(c).isNull(), c)).alias(c) for c in df.columns])\n",
    "   null_counts.show()\n",
    "   ```\n",
    "   Bagian ini memeriksa apakah ada nilai *null* atau *NaN* (Not a Number) di dalam setiap kolom DataFrame.\n",
    "   \n",
    "   - `isnan(c)` memeriksa apakah nilai di kolom `c` adalah NaN.\n",
    "   - `col(c).isNull()` memeriksa apakah nilai di kolom `c` adalah *null*.\n",
    "   - `when(isnan(c) | col(c).isNull(), c)` mengembalikan kolom tersebut hanya jika nilainya *null* atau *NaN*.\n",
    "   - `count()` menghitung jumlah nilai *null*/*NaN* dalam setiap kolom.\n",
    "   - `alias(c)` memberikan nama alias untuk hasil hitungannya sesuai nama kolom.\n",
    "\n",
    "   Hasilnya akan ditampilkan menggunakan `.show()`, yang menampilkan jumlah nilai *null* atau *NaN* dalam setiap kolom. Ini penting untuk memeriksa kualitas data sebelum melakukan analisis atau modeling lebih lanjut."
   ]
  },
  {
   "cell_type": "code",
   "execution_count": 5,
   "metadata": {},
   "outputs": [],
   "source": [
    "# Convert 'odometer' to a numeric type (IntegerType)\n",
    "df = df.withColumn('odometer', when(col('odometer').cast(IntegerType()).isNotNull(), col('odometer').cast(IntegerType())).otherwise(None))\n",
    "\n",
    "# Dropping rows with null values in 'odometer' after conversion\n",
    "df = df.filter(df['odometer'].isNotNull())\n",
    "\n",
    "# Convert 'price' to a numeric type (FloatType or IntegerType)\n",
    "df = df.withColumn('price', when(col('price').cast(FloatType()).isNotNull(), col('price').cast(FloatType())).otherwise(None))\n",
    "\n",
    "# Dropping rows with null values in 'price' after conversion\n",
    "df = df.filter(df['price'].isNotNull())\n",
    "\n",
    "# Change the data type of 'year'\n",
    "df = df.withColumn('year', df['year'].cast(IntegerType()))\n",
    "\n",
    "# Drop rows with low prices\n",
    "df = df.filter((df['price'] > 100))\n",
    "\n",
    "# Remove outliers\n",
    "df = df.filter(df['price'] < 249999)"
   ]
  },
  {
   "cell_type": "markdown",
   "metadata": {},
   "source": [
    "1. **Menghapus kolom dengan lebih dari 25% nilai *null*:**\n",
    "   ```python\n",
    "   threshold = df.count() * 0.25\n",
    "   df = df.drop(*[c for c in df.columns if df.filter(col(c).isNull()).count() > threshold])\n",
    "   ```\n",
    "   - `df.count() * 0.25` menghitung batas 25% dari jumlah total baris dalam DataFrame.\n",
    "   - `df.filter(col(c).isNull()).count()` menghitung jumlah nilai *null* dalam setiap kolom `c`.\n",
    "   - Jika jumlah *null* dalam kolom tersebut lebih besar dari batas (threshold), kolom tersebut akan dihapus dengan menggunakan `drop()`.\n",
    "   - `*[]` menyebarkan daftar kolom yang ingin dihapus sebagai argumen untuk metode `drop()`.\n",
    "\n",
    "   **Tujuan:** Menghapus kolom yang terlalu banyak memiliki nilai *null* (> 25%) karena kolom tersebut mungkin tidak memberikan informasi yang cukup untuk analisis.\n",
    "\n",
    "2. **Menghapus kolom kategorikal tertentu:**\n",
    "   ```python\n",
    "   df = df.drop('region', 'manufacturer', 'model', 'fuel')\n",
    "   ```\n",
    "   Kolom-kolom seperti `'region'`, `'manufacturer'`, `'model'`, dan `'fuel'` dihapus secara manual karena mungkin dianggap tidak relevan dalam analisis atau prediksi harga kendaraan. Mungkin kolom ini redundant atau tidak diperlukan untuk prediksi.\n",
    "\n",
    "3. **Menghapus baris dengan nilai *null* di kolom spesifik:**\n",
    "   ```python\n",
    "   for column in ['odometer', 'type', 'title_status', 'year', 'transmission']:\n",
    "       df = df.filter(df[column].isNotNull())\n",
    "   ```\n",
    "   - `df.filter(df[column].isNotNull())` akan menyaring DataFrame dan hanya menyimpan baris yang **tidak memiliki nilai *null*** pada kolom yang ditentukan.\n",
    "   - Loop ini diterapkan pada kolom `'odometer'`, `'type'`, `'title_status'`, `'year'`, dan `'transmission'`, untuk memastikan baris yang memiliki *null* pada kolom tersebut dihapus.\n",
    "\n",
    "   **Tujuan:** Menghilangkan baris yang tidak memiliki data lengkap pada kolom penting seperti odometer (kilometer), jenis kendaraan, status sertifikat, tahun pembuatan, dan jenis transmisi, sehingga meningkatkan kualitas data untuk analisis lebih lanjut."
   ]
  },
  {
   "cell_type": "code",
   "execution_count": 6,
   "metadata": {},
   "outputs": [],
   "source": [
    "# Encoding the year categories\n",
    "df = df.withColumn('year', when(col('year') <= 1945, 'ancient')\n",
    "                   .when((col('year') > 1945) & (col('year') <= 1980), 'old')\n",
    "                   .when((col('year') > 1980) & (col('year') <= 2015), 'middle')\n",
    "                   .otherwise('new'))\n",
    "\n",
    "# One-hot encoding\n",
    "year_indexer = StringIndexer(inputCol='year', outputCol='year_index')\n",
    "title_status_indexer = StringIndexer(inputCol='title_status', outputCol='title_status_index')\n",
    "transmission_indexer = StringIndexer(inputCol='transmission', outputCol='transmission_index')\n",
    "type_indexer = StringIndexer(inputCol='type', outputCol='type_index')\n",
    "\n",
    "encoder = OneHotEncoder(inputCols=['year_index', 'title_status_index', 'transmission_index', 'type_index'], \n",
    "                         outputCols=['year_ohe', 'title_status_ohe', 'transmission_ohe', 'type_ohe'])"
   ]
  },
  {
   "cell_type": "markdown",
   "metadata": {},
   "source": [
    "1. **Encoding kategori tahun:**\n",
    "   ```python\n",
    "   df = df.withColumn('year', when(col('year') <= 1945, 'ancient')\n",
    "                      .when((col('year') > 1945) & (col('year') <= 1980), 'old')\n",
    "                      .when((col('year') > 1980) & (col('year') <= 2015), 'middle')\n",
    "                      .otherwise('new'))\n",
    "   ```\n",
    "   - `withColumn()` digunakan untuk membuat atau mengganti kolom yang ada.\n",
    "   - Kondisi `when()` digunakan untuk mengelompokkan nilai pada kolom `year` ke dalam kategori berbasis tahun:\n",
    "     - **'ancient'** untuk tahun yang lebih kecil atau sama dengan 1945.\n",
    "     - **'old'** untuk tahun antara 1945 hingga 1980.\n",
    "     - **'middle'** untuk tahun antara 1980 hingga 2015.\n",
    "     - **'new'** untuk tahun yang lebih baru dari 2015.\n",
    "   \n",
    "   **Tujuan:** Mengelompokkan kendaraan berdasarkan rentang tahun ke dalam beberapa kategori untuk memudahkan analisis atau modeling.\n",
    "\n",
    "2. **String Indexing:**\n",
    "   - StringIndexer digunakan untuk mengonversi kolom dengan nilai kategori berbentuk string menjadi nilai numerik indeks.\n",
    "\n",
    "   ```python\n",
    "   year_indexer = StringIndexer(inputCol='year', outputCol='year_index')\n",
    "   title_status_indexer = StringIndexer(inputCol='title_status', outputCol='title_status_index')\n",
    "   transmission_indexer = StringIndexer(inputCol='transmission', outputCol='transmission_index')\n",
    "   type_indexer = StringIndexer(inputCol='type', outputCol='type_index')\n",
    "   ```\n",
    "   - **`year_indexer`**: Mengonversi kolom `year` (yang sekarang mengandung kategori `'ancient'`, `'old'`, `'middle'`, dan `'new'`) menjadi kolom numerik baru bernama `year_index`.\n",
    "   - **`title_status_indexer`**: Mengonversi kolom `title_status` (status sertifikat kendaraan) ke indeks numerik.\n",
    "   - **`transmission_indexer`**: Mengonversi kolom `transmission` (jenis transmisi) menjadi nilai numerik.\n",
    "   - **`type_indexer`**: Mengonversi kolom `type` (jenis kendaraan) menjadi nilai numerik.\n",
    "\n",
    "   **Tujuan:** Sebelum melakukan proses *one-hot encoding* atau analisis lainnya, data kategori perlu diubah ke bentuk numerik dengan menggunakan StringIndexer.\n",
    "\n",
    "3. **One-Hot Encoding:**\n",
    "   ```python\n",
    "   encoder = OneHotEncoder(inputCols=['year_index', 'title_status_index', 'transmission_index', 'type_index'], \n",
    "                           outputCols=['year_ohe', 'title_status_ohe', 'transmission_ohe', 'type_ohe'])\n",
    "   ```\n",
    "   - OneHotEncoder mengonversi nilai indeks yang dihasilkan oleh **StringIndexer** menjadi representasi vektor biner (*one-hot encoding*).\n",
    "   - Input yang digunakan adalah kolom yang telah di-*index* sebelumnya (`year_index`, `title_status_index`, `transmission_index`, `type_index`).\n",
    "   - Output yang dihasilkan adalah kolom baru untuk setiap kategori (`year_ohe`, `title_status_ohe`, `transmission_ohe`, `type_ohe`), yang berisi representasi *one-hot* dari nilai kategori.\n",
    "\n",
    "   **Tujuan:** *One-hot encoding* digunakan untuk mengubah data kategori menjadi format vektor biner agar bisa digunakan dalam model pembelajaran mesin (ML), karena sebagian besar model ML membutuhkan input numerik."
   ]
  },
  {
   "cell_type": "code",
   "execution_count": 7,
   "metadata": {},
   "outputs": [],
   "source": [
    "# Prepare feature vector\n",
    "assembler = VectorAssembler(inputCols=[col for col in df.columns if col not in ['price', 'year', 'title_status', 'transmission', 'type']], \n",
    "                            outputCol='features')\n",
    "\n",
    "# Create the model pipeline\n",
    "pipeline = Pipeline(stages=[year_indexer, title_status_indexer, transmission_indexer, type_indexer, \n",
    "                             encoder, assembler])\n",
    "\n",
    "# Fit the pipeline\n",
    "pipeline_model = pipeline.fit(df)\n",
    "prepared_df = pipeline_model.transform(df)"
   ]
  },
  {
   "cell_type": "markdown",
   "metadata": {},
   "source": [
    "1. **Mempersiapkan *feature vector* dengan VectorAssembler:**\n",
    "   ```python\n",
    "   assembler = VectorAssembler(inputCols=[col for col in df.columns if col not in ['price', 'year', 'title_status', 'transmission', 'type']], \n",
    "                               outputCol='features')\n",
    "   ```\n",
    "   - `VectorAssembler` digunakan untuk menggabungkan beberapa kolom numerik ke dalam satu kolom vektor fitur (`features`), yang dapat digunakan sebagai input ke model pembelajaran mesin.\n",
    "   - Argumen `inputCols` adalah daftar kolom yang akan digunakan sebagai fitur, yang dalam hal ini mencakup semua kolom di DataFrame kecuali kolom yang sudah diconvert seperti `'price'`, `'year'`, `'title_status'`, `'transmission'`, dan `'type'`. Kolom tersebut dikeluarkan karena akan diubah menjadi vektor biner melalui *one-hot encoding* atau sudah di-*index*.\n",
    "   - `outputCol='features'` menentukan bahwa hasilnya akan disimpan dalam kolom baru yang disebut `'features'`.\n",
    "\n",
    "   **Tujuan:** Menggabungkan semua kolom fitur numerik (setelah di-*one-hot encode* dan *indexing*) ke dalam satu kolom untuk digunakan dalam pelatihan model.\n",
    "\n",
    "2. **Membuat *Pipeline* untuk pemodelan:**\n",
    "   ```python\n",
    "   pipeline = Pipeline(stages=[year_indexer, title_status_indexer, transmission_indexer, type_indexer, \n",
    "                                encoder, assembler])\n",
    "   ```\n",
    "   - *Pipeline* adalah alur kerja otomatis yang menggabungkan beberapa tahap transformasi data dan model menjadi satu rangkaian proses.\n",
    "   - Dalam *pipeline* ini, urutan tahapannya adalah sebagai berikut:\n",
    "     - `year_indexer`, `title_status_indexer`, `transmission_indexer`, `type_indexer`: Menerapkan *StringIndexer* untuk mengonversi kolom kategori menjadi numerik.\n",
    "     - `encoder`: Menerapkan *OneHotEncoder* pada hasil indeks kategori.\n",
    "     - `assembler`: Menerapkan *VectorAssembler* untuk menggabungkan kolom-kolom fitur ke dalam satu vektor fitur.\n",
    "\n",
    "   **Tujuan:** *Pipeline* memungkinkan semua transformasi dilakukan dalam satu langkah terintegrasi, memudahkan proses transformasi data dan pemodelan.\n",
    "\n",
    "3. **Melatih *Pipeline* dan menyiapkan DataFrame yang telah diproses:**\n",
    "   ```python\n",
    "   pipeline_model = pipeline.fit(df)\n",
    "   prepared_df = pipeline_model.transform(df)\n",
    "   ```\n",
    "   - `pipeline.fit(df)` melatih *pipeline* menggunakan DataFrame `df`. Ini berarti semua tahap transformasi data dalam *pipeline* diterapkan pada data pelatihan.\n",
    "   - Hasil dari `fit()` adalah model *pipeline* (`pipeline_model`) yang telah \"terlatih\" dengan data yang ada.\n",
    "   - `pipeline_model.transform(df)` kemudian menerapkan transformasi yang telah dilatih tersebut pada DataFrame `df`, menghasilkan DataFrame baru `prepared_df` dengan semua kolom fitur yang sudah di-*encoded* dan digabung ke dalam satu kolom vektor fitur `'features'`.\n",
    "\n",
    "   **Tujuan:** Menyelesaikan proses persiapan data sehingga DataFrame siap digunakan untuk melatih model pembelajaran mesin (misalnya, regresi atau klasifikasi), dengan semua fitur yang sudah dalam format yang benar."
   ]
  },
  {
   "cell_type": "code",
   "execution_count": 8,
   "metadata": {},
   "outputs": [],
   "source": []
  },
  {
   "cell_type": "code",
   "execution_count": 8,
   "metadata": {},
   "outputs": [],
   "source": [
    "# Splitting the dataset\n",
    "train_df, test_df = prepared_df.randomSplit([0.8, 0.2], seed=345)"
   ]
  },
  {
   "cell_type": "code",
   "execution_count": 9,
   "metadata": {},
   "outputs": [],
   "source": [
    "# Define models\n",
    "models = {\n",
    "    'Linear Regression': LinearRegression(featuresCol='features', labelCol='price'),\n",
    "    'Decision Tree': DecisionTreeRegressor(featuresCol='features', labelCol='price'),\n",
    "    'Random Forest': RandomForestRegressor(featuresCol='features', labelCol='price'),\n",
    "    'Gradient Boosted Trees': GBTRegressor(featuresCol='features', labelCol='price')\n",
    "}\n",
    "\n",
    "# Evaluate models\n",
    "results = []\n",
    "evaluator = RegressionEvaluator(labelCol='price', predictionCol='prediction', metricName='r2')\n",
    "rmse_evaluator = RegressionEvaluator(labelCol='price', predictionCol='prediction', metricName='rmse')\n",
    "\n",
    "for name, model in models.items():\n",
    "    model_fit = model.fit(train_df)\n",
    "    predictions = model_fit.transform(test_df)\n",
    "    r2 = evaluator.evaluate(predictions)\n",
    "    rmse = rmse_evaluator.evaluate(predictions)\n",
    "    results.append({\"Model\": name, \"R2\": r2, \"RMSE\": rmse})"
   ]
  },
  {
   "cell_type": "markdown",
   "metadata": {},
   "source": [
    "1. **Mendefinisikan model regresi:**\n",
    "   ```python\n",
    "   models = {\n",
    "       'Linear Regression': LinearRegression(featuresCol='features', labelCol='price'),\n",
    "       'Decision Tree': DecisionTreeRegressor(featuresCol='features', labelCol='price'),\n",
    "       'Random Forest': RandomForestRegressor(featuresCol='features', labelCol='price'),\n",
    "       'Gradient Boosted Trees': GBTRegressor(featuresCol='features', labelCol='price')\n",
    "   }\n",
    "   ```\n",
    "   - Sebuah kamus `models` didefinisikan untuk menyimpan beberapa model regresi yang akan diuji, termasuk:\n",
    "     - **Linear Regression**: Menggunakan regresi linear untuk memprediksi harga kendaraan.\n",
    "     - **Decision Tree**: Menggunakan pohon keputusan untuk regresi.\n",
    "     - **Random Forest**: Menggunakan hutan acak untuk regresi, yang merupakan kumpulan dari beberapa pohon keputusan.\n",
    "     - **Gradient Boosted Trees (GBT)**: Menggunakan teknik penguatan gradien dengan pohon keputusan untuk meningkatkan akurasi prediksi.\n",
    "\n",
    "   Setiap model menggunakan `featuresCol='features'` sebagai kolom fitur dan `labelCol='price'` sebagai target atau label prediksi (harga kendaraan).\n",
    "\n",
    "2. **Evaluasi model:**\n",
    "   ```python\n",
    "   results = []\n",
    "   evaluator = RegressionEvaluator(labelCol='price', predictionCol='prediction', metricName='r2')\n",
    "   rmse_evaluator = RegressionEvaluator(labelCol='price', predictionCol='prediction', metricName='rmse')\n",
    "   ```\n",
    "   - **`results`** adalah daftar kosong untuk menyimpan hasil evaluasi dari setiap model.\n",
    "   - **`evaluator`**: Digunakan untuk menghitung **R²** (*coefficient of determination*), metrik yang mengukur seberapa baik model memprediksi variabel target (harga). Nilai R² yang lebih tinggi menunjukkan prediksi lebih baik.\n",
    "   - **`rmse_evaluator`**: Digunakan untuk menghitung **RMSE** (Root Mean Squared Error), yang mengukur rata-rata kesalahan kuadrat akar antara nilai prediksi dan nilai aktual. Semakin rendah nilai RMSE, semakin baik model tersebut.\n",
    "\n",
    "3. **Melatih dan mengevaluasi setiap model:**\n",
    "   ```python\n",
    "   for name, model in models.items():\n",
    "       model_fit = model.fit(train_df)\n",
    "       predictions = model_fit.transform(test_df)\n",
    "       r2 = evaluator.evaluate(predictions)\n",
    "       rmse = rmse_evaluator.evaluate(predictions)\n",
    "       results.append({\"Model\": name, \"R2\": r2, \"RMSE\": rmse})\n",
    "   ```\n",
    "   - *Loop* ini melalui setiap pasangan nama dan model dalam kamus `models`.\n",
    "   - **`model.fit(train_df)`**: Setiap model dilatih menggunakan *training data* (`train_df`).\n",
    "   - **`model_fit.transform(test_df)`**: Setelah pelatihan, model yang dilatih digunakan untuk membuat prediksi pada *test data* (`test_df`).\n",
    "   - **`evaluator.evaluate(predictions)`**: Menghitung nilai **R²** untuk prediksi yang dibuat oleh model.\n",
    "   - **`rmse_evaluator.evaluate(predictions)`**: Menghitung nilai **RMSE** untuk prediksi tersebut.\n",
    "   - **`results.append()`**: Menambahkan hasil evaluasi berupa nama model, nilai R², dan nilai RMSE ke dalam daftar `results`.\n",
    "\n",
    "   **Tujuan:** Melakukan pelatihan dan evaluasi pada beberapa model regresi untuk memprediksi harga kendaraan berdasarkan fitur yang tersedia, dan mengukur kinerja model menggunakan dua metrik utama: R² dan RMSE. Nilai ini kemudian bisa digunakan untuk membandingkan performa model dan memilih model terbaik."
   ]
  },
  {
   "cell_type": "code",
   "execution_count": 12,
   "metadata": {},
   "outputs": [
    {
     "name": "stdout",
     "output_type": "stream",
     "text": [
      "Model: Linear Regression, R²: 0.0409, RMSE: 14686.6231\n",
      "Model: Decision Tree, R²: 0.3115, RMSE: 12443.9140\n",
      "Model: Random Forest, R²: 0.3114, RMSE: 12444.0729\n",
      "Model: Gradient Boosted Trees, R²: 0.3119, RMSE: 12439.8069\n"
     ]
    },
    {
     "data": {
      "image/png": "[encoded data removed]",
      "text/plain": [
       "<Figure size 1000x600 with 1 Axes>"
      ]
     },
     "metadata": {},
     "output_type": "display_data"
    }
   ],
   "source": [
    "# Display the results\n",
    "for result in results:\n",
    "    print(f\"Model: {result['Model']}, R²: {result['R2']:.4f}, RMSE: {result['RMSE']:.4f}\")\n",
    "\n",
    "# Visualize the results\n",
    "df_results = pd.DataFrame(results)\n",
    "plt.figure(figsize=(10, 6))\n",
    "sns.barplot(x='Model', y='R2', data=df_results)\n",
    "plt.title('Model Performance (R²)')\n",
    "plt.show()\n",
    "\n",
    "# Stop Spark session\n",
    "spark.stop()"
   ]
  },
  {
   "cell_type": "markdown",
   "metadata": {},
   "source": [
    "1. **Menampilkan hasil evaluasi model:**\n",
    "   ```python\n",
    "   for result in results:\n",
    "       print(f\"Model: {result['Model']}, R²: {result['R2']:.4f}, RMSE: {result['RMSE']:.4f}\")\n",
    "   ```\n",
    "   - Loop ini melalui setiap item dalam daftar `results` yang berisi hasil evaluasi model.\n",
    "   - Format hasil ditampilkan dengan model, nilai R², dan RMSE, di mana `.4f` berarti hasil akan ditampilkan hingga 4 angka desimal.\n",
    "   - Hasil ini memberikan gambaran kinerja setiap model berdasarkan dua metrik utama: **R²** dan **RMSE**.\n",
    "\n",
    "2. **Memvisualisasikan hasil dengan grafik batang:**\n",
    "   ```python\n",
    "   df_results = pd.DataFrame(results)\n",
    "   plt.figure(figsize=(10, 6))\n",
    "   sns.barplot(x='Model', y='R2', data=df_results)\n",
    "   plt.title('Model Performance (R²)')\n",
    "   plt.show()\n",
    "   ```\n",
    "   - **`df_results = pd.DataFrame(results)`**: Hasil evaluasi yang disimpan dalam `results` dikonversi menjadi DataFrame pandas agar mudah divisualisasikan.\n",
    "   - **`plt.figure(figsize=(10, 6))`**: Membuat sebuah *figure* atau kanvas untuk grafik dengan ukuran 10x6 inci.\n",
    "   - **`sns.barplot()`**: Menggunakan *seaborn* untuk membuat grafik batang (*bar plot*), dengan model di sumbu-x dan nilai **R²** di sumbu-y.\n",
    "   - **`plt.title('Model Performance (R²)')`**: Menambahkan judul pada grafik yang menunjukkan bahwa grafik ini menampilkan kinerja model berdasarkan R².\n",
    "   - **`plt.show()`**: Menampilkan grafik.\n",
    "\n",
    "   **Tujuan:** Memvisualisasikan nilai R² untuk setiap model dalam bentuk grafik batang agar memudahkan perbandingan kinerja model secara visual.\n",
    "\n",
    "3. **Menghentikan sesi Spark:**\n",
    "   ```python\n",
    "   spark.stop()\n",
    "   ```\n",
    "   - **`spark.stop()`** digunakan untuk menghentikan sesi Spark setelah semua proses selesai. Ini adalah praktik yang baik untuk membebaskan sumber daya yang digunakan oleh Spark setelah proses selesai.\n",
    "\n",
    "   **Tujuan:** Mengakhiri sesi Spark dengan benar setelah pemrosesan selesai.\n",
    "\n",
    "Hasil evaluasi dari beberapa model regresi menunjukkan performa dalam memprediksi harga kendaraan:\n",
    "\n",
    "1. **Linear Regression**:\n",
    "   - **R²: 0.0409**: Nilai ini sangat rendah, yang berarti model hanya mampu menjelaskan sekitar 4% dari variabilitas data. Model ini tidak cocok untuk prediksi yang baik dalam kasus ini.\n",
    "   - **RMSE: 14,686.6231**: Nilai error ini cukup tinggi, menunjukkan bahwa prediksi harga yang dihasilkan memiliki selisih yang besar dari nilai aktualnya.\n",
    "\n",
    "2. **Decision Tree**:\n",
    "   - **R²: 0.3115**: Ini menunjukkan bahwa model decision tree bisa menjelaskan sekitar 31% variabilitas dalam data, lebih baik dibanding regresi linear, tapi masih jauh dari optimal.\n",
    "   - **RMSE: 12,443.9140**: Nilai error lebih rendah dari model regresi linear, menunjukkan prediksi yang lebih baik.\n",
    "\n",
    "3. **Random Forest**:\n",
    "   - **R²: 0.3114**: Hampir sama dengan decision tree, menandakan bahwa performanya sebanding.\n",
    "   - **RMSE: 12,444.0729**: Nilai RMSE juga sangat mirip dengan decision tree, yang menunjukkan bahwa model ini tidak terlalu jauh berbeda dalam hasilnya.\n",
    "\n",
    "4. **Gradient Boosted Trees (GBT)**:\n",
    "   - **R²: 0.3119**: Sedikit lebih baik daripada decision tree dan random forest, tapi peningkatannya kecil.\n",
    "   - **RMSE: 12,439.8069**: Nilai RMSE sedikit lebih rendah dari kedua model sebelumnya, menunjukkan prediksi yang sedikit lebih akurat.\n",
    "\n",
    "**Kesimpulan:**\n",
    "- Semua model berbasis pohon (Decision Tree, Random Forest, GBT) memiliki performa yang jauh lebih baik dibandingkan regresi linear dalam hal nilai R² dan RMSE.\n",
    "- Gradient Boosted Trees sedikit unggul dalam akurasi, meskipun perbedaan dengan model Decision Tree dan Random Forest tidak terlalu signifikan.\n",
    "- Namun, R² sekitar 0.31 masih menunjukkan bahwa model hanya mampu menjelaskan sekitar 31% dari variasi harga kendaraan, jadi ada kemungkinan data tambahan atau fitur lain dibutuhkan untuk meningkatkan performa model secara keseluruhan."
   ]
  },
  {
   "cell_type": "markdown",
   "metadata": {},
   "source": []
  }
 ],
 "metadata": {
  "kernelspec": {
   "display_name": "Python 3",
   "language": "python",
   "name": "python3"
  },
  "language_info": {
   "codemirror_mode": {
    "name": "ipython",
    "version": 3
   },
   "file_extension": ".py",
   "mimetype": "text/x-python",
   "name": "python",
   "nbconvert_exporter": "python",
   "pygments_lexer": "ipython3",
   "version": "3.10.5"
  }
 },
 "nbformat": 4,
 "nbformat_minor": 2
}
